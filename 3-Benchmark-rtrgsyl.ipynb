{
 "cells": [
  {
   "cell_type": "markdown",
   "id": "mathematical-heart",
   "metadata": {},
   "source": [
    "# About\n",
    "\n",
    "This notebooks aims to compare `rtrgsyl` with scipy's solver against scipy's solver alone. "
   ]
  },
  {
   "cell_type": "markdown",
   "id": "christian-georgia",
   "metadata": {},
   "source": [
    "# Benchmark"
   ]
  },
  {
   "cell_type": "markdown",
   "id": "competent-twist",
   "metadata": {},
   "source": [
    "## Utils"
   ]
  },
  {
   "cell_type": "code",
   "execution_count": 15,
   "id": "acting-prize",
   "metadata": {},
   "outputs": [],
   "source": [
    "from benchmark_utils import benchmark\n",
    "from utils import \n",
    "from recursive import rtrgsyl"
   ]
  },
  {
   "cell_type": "code",
   "execution_count": 2,
   "id": "retained-pilot",
   "metadata": {},
   "outputs": [],
   "source": [
    "import numpy as np\n",
    "import pandas as pd\n",
    "import matplotlib.pyplot as plt"
   ]
  },
  {
   "cell_type": "code",
   "execution_count": 22,
   "id": "inner-jerusalem",
   "metadata": {},
   "outputs": [],
   "source": [
    "# Format the results of the benchmark() function\n",
    "def format_results_bs(res_dic):\n",
    "    df = pd.DataFrame(res_dic)\n",
    "    df.time = df.time.apply(np.array)\n",
    "    df['time_schur'] = df.time.apply(lambda lst: [tpl[0] for tpl in lst])\n",
    "    df['time_solve'] = df.time.apply(lambda lst: [tpl[1] for tpl in lst])\n",
    "    df['time_back'] = df.time.apply(lambda lst: [tpl[2] for tpl in lst])\n",
    "    df.drop(columns='time', inplace=True)\n",
    "\n",
    "    for e in df.columns:\n",
    "        if e.startswith('time_'):\n",
    "            df[f'{e}_mean'] = df[e].apply(np.mean)\n",
    "            df[f'{e}_std'] = df[e].apply(np.std)\n",
    "    \n",
    "    df['m'] = df.dim.apply(lambda e: e[0])\n",
    "    df['n'] = df.dim.apply(lambda e: e[1])\n",
    "    \n",
    "    return df"
   ]
  },
  {
   "cell_type": "markdown",
   "id": "desperate-garbage",
   "metadata": {},
   "source": [
    "## "
   ]
  }
 ],
 "metadata": {
  "kernelspec": {
   "display_name": "Python [conda env:ada]",
   "language": "python",
   "name": "conda-env-ada-py"
  },
  "language_info": {
   "codemirror_mode": {
    "name": "ipython",
    "version": 3
   },
   "file_extension": ".py",
   "mimetype": "text/x-python",
   "name": "python",
   "nbconvert_exporter": "python",
   "pygments_lexer": "ipython3",
   "version": "3.9.2"
  }
 },
 "nbformat": 4,
 "nbformat_minor": 5
}
